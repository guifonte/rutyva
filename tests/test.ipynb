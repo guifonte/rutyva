{
 "metadata": {
  "language_info": {
   "codemirror_mode": {
    "name": "ipython",
    "version": 3
   },
   "file_extension": ".py",
   "mimetype": "text/x-python",
   "name": "python",
   "nbconvert_exporter": "python",
   "pygments_lexer": "ipython3",
   "version": "3.9.5"
  },
  "orig_nbformat": 2,
  "kernelspec": {
   "name": "pythonjvsc74a57bd07bc94f4247cb9d8b73da6fc37b147d2b48d1d0fe4c8f04234a6a1fc76c01dcd3",
   "display_name": "Python 3.9.5  ('.venv': venv)"
  },
  "metadata": {
   "interpreter": {
    "hash": "7bc94f4247cb9d8b73da6fc37b147d2b48d1d0fe4c8f04234a6a1fc76c01dcd3"
   }
  }
 },
 "nbformat": 4,
 "nbformat_minor": 2,
 "cells": [
  {
   "cell_type": "code",
   "execution_count": 30,
   "metadata": {},
   "outputs": [],
   "source": [
    "import dataclasses\n",
    "import inspect\n",
    "from typing import Union"
   ]
  },
  {
   "cell_type": "code",
   "execution_count": 38,
   "metadata": {},
   "outputs": [],
   "source": [
    "def decorator(cls):\n",
    "    def wrap():\n",
    "        for key in cls.__annotations__:\n",
    "            print(key)\n",
    "            def setter_func(self, var):\n",
    "                print('set')\n",
    "                self.__get_attribute__[key]=var\n",
    "            \n",
    "            def getter_func(self):\n",
    "                print('get')\n",
    "                return self.__set__attribute__[key]\n",
    "            prop = property(getter_func, setter_func)\n",
    "            setattr(cls, key, prop)\n",
    "\n",
    "        return cls\n",
    "            \n",
    "    return wrap"
   ]
  },
  {
   "cell_type": "code",
   "execution_count": 62,
   "metadata": {},
   "outputs": [],
   "source": [
    "# https://stackoverflow.com/questions/56437875/how-do-i-define-setter-getter-for-dynamically-added-attributes"
   ]
  },
  {
   "cell_type": "code",
   "execution_count": 54,
   "metadata": {},
   "outputs": [],
   "source": [
    "@decorator\n",
    "class A:\n",
    "    b: int\n",
    "    c: str\n",
    "\n",
    "    "
   ]
  },
  {
   "cell_type": "code",
   "execution_count": 55,
   "metadata": {},
   "outputs": [
    {
     "output_type": "stream",
     "name": "stdout",
     "text": [
      "b\nc\n"
     ]
    },
    {
     "output_type": "execute_result",
     "data": {
      "text/plain": [
       "mappingproxy({'__module__': '__main__',\n",
       "              '__annotations__': {'b': int, 'c': str},\n",
       "              '__dict__': <attribute '__dict__' of 'A' objects>,\n",
       "              '__weakref__': <attribute '__weakref__' of 'A' objects>,\n",
       "              '__doc__': None,\n",
       "              'b': <property at 0x7ff65b73a0e0>,\n",
       "              'c': <property at 0x7ff65bba1450>})"
      ]
     },
     "metadata": {},
     "execution_count": 55
    }
   ],
   "source": [
    "a = A()\n",
    "a.__dict__"
   ]
  },
  {
   "cell_type": "code",
   "execution_count": 56,
   "metadata": {},
   "outputs": [
    {
     "output_type": "stream",
     "name": "stdout",
     "text": [
      "(*args, **kwargs)\n{'b': <class 'int'>, 'c': <class 'str'>}\n"
     ]
    }
   ],
   "source": [
    "print(inspect.signature(A.__init__))\n",
    "print(a.__annotations__)"
   ]
  },
  {
   "cell_type": "code",
   "execution_count": 60,
   "metadata": {},
   "outputs": [],
   "source": [
    "a.b = 10\n",
    "a.c = 'bla'"
   ]
  },
  {
   "cell_type": "code",
   "execution_count": 58,
   "metadata": {},
   "outputs": [
    {
     "output_type": "stream",
     "name": "stdout",
     "text": [
      "<class '__main__.A'>\n"
     ]
    }
   ],
   "source": [
    "print(a)"
   ]
  },
  {
   "cell_type": "code",
   "execution_count": 59,
   "metadata": {},
   "outputs": [
    {
     "output_type": "stream",
     "name": "stdout",
     "text": [
      "10\nbla\n"
     ]
    },
    {
     "output_type": "execute_result",
     "data": {
      "text/plain": [
       "mappingproxy({'__module__': '__main__',\n",
       "              '__annotations__': {'b': int, 'c': str},\n",
       "              '__dict__': <attribute '__dict__' of 'A' objects>,\n",
       "              '__weakref__': <attribute '__weakref__' of 'A' objects>,\n",
       "              '__doc__': None,\n",
       "              'b': 10,\n",
       "              'c': 'bla'})"
      ]
     },
     "metadata": {},
     "execution_count": 59
    }
   ],
   "source": [
    "print(a.b)\n",
    "print(a.c)\n",
    "a.__dict__"
   ]
  },
  {
   "cell_type": "code",
   "execution_count": null,
   "metadata": {},
   "outputs": [],
   "source": []
  }
 ]
}